{
 "cells": [
  {
   "cell_type": "code",
   "execution_count": null,
   "id": "d55182dc",
   "metadata": {
    "papermill": {
     "duration": 0.004656,
     "end_time": "2022-02-22T06:45:46.344485",
     "exception": false,
     "start_time": "2022-02-22T06:45:46.339829",
     "status": "completed"
    },
    "tags": []
   },
   "outputs": [],
   "source": []
  },
  {
   "cell_type": "code",
   "execution_count": 1,
   "id": "23b263ac",
   "metadata": {
    "_cell_guid": "b1076dfc-b9ad-4769-8c92-a6c4dae69d19",
    "_uuid": "8f2839f25d086af736a60e9eeb907d3b93b6e0e5",
    "execution": {
     "iopub.execute_input": "2022-02-22T06:45:46.362187Z",
     "iopub.status.busy": "2022-02-22T06:45:46.357732Z",
     "iopub.status.idle": "2022-02-22T06:45:46.374578Z",
     "shell.execute_reply": "2022-02-22T06:45:46.375083Z"
    },
    "papermill": {
     "duration": 0.025535,
     "end_time": "2022-02-22T06:45:46.375380",
     "exception": false,
     "start_time": "2022-02-22T06:45:46.349845",
     "status": "completed"
    },
    "tags": []
   },
   "outputs": [
    {
     "name": "stdout",
     "output_type": "stream",
     "text": [
      "/kaggle/input/indian-gst-dataset-with-months-and-state-1721/Indian_GST_Dataset_with _months_and_state_2017-2021_Nov.xlsx\n"
     ]
    }
   ],
   "source": [
    "# This Python 3 environment comes with many helpful analytics libraries installed\n",
    "# It is defined by the kaggle/python Docker image: https://github.com/kaggle/docker-python\n",
    "# For example, here's several helpful packages to load\n",
    "\n",
    "import numpy as np # linear algebra\n",
    "import pandas as pd # data processing, CSV file I/O (e.g. pd.read_csv)\n",
    "\n",
    "# Input data files are available in the read-only \"../input/\" directory\n",
    "# For example, running this (by clicking run or pressing Shift+Enter) will list all files under the input directory\n",
    "\n",
    "import os\n",
    "for dirname, _, filenames in os.walk('/kaggle/input'):\n",
    "    for filename in filenames:\n",
    "        print(os.path.join(dirname, filename))\n",
    "\n",
    "# You can write up to 20GB to the current directory (/kaggle/working/) that gets preserved as output when you create a version using \"Save & Run All\" \n",
    "# You can also write temporary files to /kaggle/temp/, but they won't be saved outside of the current session"
   ]
  },
  {
   "cell_type": "markdown",
   "id": "547b6706",
   "metadata": {
    "papermill": {
     "duration": 0.003773,
     "end_time": "2022-02-22T06:45:46.383890",
     "exception": false,
     "start_time": "2022-02-22T06:45:46.380117",
     "status": "completed"
    },
    "tags": []
   },
   "source": [
    "Description"
   ]
  },
  {
   "cell_type": "code",
   "execution_count": null,
   "id": "b5f01ea6",
   "metadata": {
    "papermill": {
     "duration": 0.003784,
     "end_time": "2022-02-22T06:45:46.391651",
     "exception": false,
     "start_time": "2022-02-22T06:45:46.387867",
     "status": "completed"
    },
    "tags": []
   },
   "outputs": [],
   "source": []
  }
 ],
 "metadata": {
  "kernelspec": {
   "display_name": "Python 3",
   "language": "python",
   "name": "python3"
  },
  "language_info": {
   "codemirror_mode": {
    "name": "ipython",
    "version": 3
   },
   "file_extension": ".py",
   "mimetype": "text/x-python",
   "name": "python",
   "nbconvert_exporter": "python",
   "pygments_lexer": "ipython3",
   "version": "3.7.12"
  },
  "papermill": {
   "default_parameters": {},
   "duration": 9.625851,
   "end_time": "2022-02-22T06:45:47.006145",
   "environment_variables": {},
   "exception": null,
   "input_path": "__notebook__.ipynb",
   "output_path": "__notebook__.ipynb",
   "parameters": {},
   "start_time": "2022-02-22T06:45:37.380294",
   "version": "2.3.3"
  }
 },
 "nbformat": 4,
 "nbformat_minor": 5
}
